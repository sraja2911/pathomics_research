{
 "cells": [
  {
   "cell_type": "code",
   "execution_count": null,
   "metadata": {},
   "outputs": [],
   "source": [
    "### Imports Girder Client, customized HistomicsTK utils, Python os, sys functions\n",
    "import os, sys, json, glob\n",
    "import numpy as np\n",
    "import girder_client\n",
    "import urllib"
   ]
  },
  {
   "cell_type": "code",
   "execution_count": null,
   "metadata": {},
   "outputs": [],
   "source": [
    "### Connect to girder and get the cohort ID's for all the TCGA collections\n",
    "gc = girder_client.GirderClient(apiUrl=\"http://candygram.neurology.emory.edu:8080/api/v1\")\n",
    "gc.authenticate(username='admin', password='cancersuckz!', interactive=False)\n",
    "\n",
    "rajCohorts = gc.get('/raj/lgg')   \n",
    "cohortInfo = dict([(x['name'],x['_id']) for x in rajCohorts['data']])\n",
    "slidesInCohort = gc.get('/raj/lgg/%s/images?limit=%d' % (cohortInfo[cohort],2000))"
   ]
  },
  {
   "cell_type": "code",
   "execution_count": null,
   "metadata": {},
   "outputs": [],
   "source": [
    "def saveSVSslide(slide, path):\n",
    "    url = \"<http://candygrame.emory.edu:8080/api/v1/item/%s/download?contentDisposition=attachment>\" % slide['_id']\n",
    "    urllib.urlretrieve(url, path+slide['name'])"
   ]
  },
  {
   "cell_type": "code",
   "execution_count": null,
   "metadata": {},
   "outputs": [],
   "source": [
    "count = 0\n",
    "folderID = '5b4cc18692ca9a001ae72aff'\n",
    "for slide in list(gc.listItem(folderID)):\n",
    "    count += 1\n",
    "    path=\"/data/code/results/\"\n",
    "    t = saveSVSslide(slide, path)"
   ]
  },
  {
   "cell_type": "code",
   "execution_count": null,
   "metadata": {},
   "outputs": [],
   "source": [
    "slidesTagged = []\n",
    "tags = ['AirBubble', 'Blood', 'Ink'] \n",
    "\n",
    "for sld in gc.listItem(sourceFldId): \n",
    "    tags_current = sld['meta']['tags'] \n",
    "        if all (tag in tags_current for tag in tags): \n",
    "            slidesTagged.append(sld) \n",
    "            print 'There are %s labeled slides.' % len(slidesTagged)`"
   ]
  },
  {
   "cell_type": "code",
   "execution_count": null,
   "metadata": {},
   "outputs": [],
   "source": []
  }
 ],
 "metadata": {
  "kernelspec": {
   "display_name": "Python 3",
   "language": "python",
   "name": "python3"
  },
  "language_info": {
   "codemirror_mode": {
    "name": "ipython",
    "version": 3
   },
   "file_extension": ".py",
   "mimetype": "text/x-python",
   "name": "python",
   "nbconvert_exporter": "python",
   "pygments_lexer": "ipython3",
   "version": "3.7.5"
  }
 },
 "nbformat": 4,
 "nbformat_minor": 2
}
