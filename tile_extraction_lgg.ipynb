{
 "cells": [
  {
   "cell_type": "code",
   "execution_count": 2,
   "metadata": {},
   "outputs": [],
   "source": [
    "### Imports Girder Client, customized HistomicsTK utils, Python os, sys functions\n",
    "import os, sys, json, glob\n",
    "import numpy as np\n",
    "import girder_client\n",
    "import histomicstk.utils as htk_utils\n",
    "#from cStringIO import StringIO\n",
    "from io import StringIO\n",
    "import io, random\n",
    "import logging\n",
    "from os.path import join as opj\n",
    "from PIL import Image\n",
    "import time\n",
    "from datetime import datetime\n",
    "#import exceptions\n",
    "import simple_mask as sm  # customized htkutils.simple_mask at line#79\n",
    "from log_utils import setup_logging_to_file, log_exception # catch and logging exceptions\n",
    "from dask import delayed"
   ]
  },
  {
   "cell_type": "code",
   "execution_count": 3,
   "metadata": {},
   "outputs": [],
   "source": [
    "### Pulling tiles for \"lgg\" cohort\n",
    "cohort = \"lgg\"\n",
    "logging.getLogger(\"requests\").setLevel(logging.WARNING)\n",
    "setup_logging_to_file(\"lgg500k_tile_extraction.log\")"
   ]
  },
  {
   "cell_type": "code",
   "execution_count": 4,
   "metadata": {},
   "outputs": [],
   "source": [
    "### Connect to girder and get the cohort ID's for all the TCGA collections\n",
    "#gc = girder_client.GirderClient(apiUrl=\"http://digitalslidearchive.emory.edu:8080/api/v1\")\n",
    "#gc.authenticate(username='admin', password='password', interactive=False)\n",
    "gc = girder_client.GirderClient(apiUrl=\"http://candygram.neurology.emory.edu:8080/api/v1\")\n",
    "gc.authenticate(username='admin', password='cancersuckz!', interactive=False)\n",
    "tcgaCohorts = gc.get('/tcga/cohort')  ## This gets me the folderID for all the TCGA cohorts\n",
    "cohortInfo = dict([(x['name'],x['_id']) for x in tcgaCohorts['data']])\n",
    "slidesInCohort = gc.get('/tcga/cohort/%s/images?limit=%d' % (cohortInfo[cohort],5000))"
   ]
  },
  {
   "cell_type": "code",
   "execution_count": 5,
   "metadata": {},
   "outputs": [
    {
     "name": "stdout",
     "output_type": "stream",
     "text": [
      "3529 for the lgg Cohort\n"
     ]
    }
   ],
   "source": [
    "### For now I am going to filter out any non DX Cases\n",
    "dxSlides = [x for x in slidesInCohort['data'] if '-DX' in x['name']]\n",
    "print(len(dxSlides),\"for the %s Cohort\"%cohort)"
   ]
  },
  {
   "cell_type": "code",
   "execution_count": 6,
   "metadata": {},
   "outputs": [],
   "source": [
    "class LinePrinter():\n",
    "    \"\"\"\n",
    "    Print things to stdout on one line dynamically\n",
    "    \"\"\"\n",
    "    def __init__(self,data):\n",
    "        sys.stdout.write(\"\\r\\x1b[K\"+data.__str__())\n",
    "        sys.stdout.flush()"
   ]
  },
  {
   "cell_type": "code",
   "execution_count": 7,
   "metadata": {},
   "outputs": [],
   "source": [
    "def grabTilesFromImage( imageData, outputDir, lowResMag=1.25, outputRes=20, tilesToOutput=200,debug=False):\n",
    "    ### This receives a list of images from Girder and will generate tiles and place them in \n",
    "    ### Train and Test Directories-- it will split based on train_test_split and also\n",
    "    ### Will run a low res segmentation step prior to trying to randomly grab tiles from the input stream\n",
    "    ### outputDir should be something like /data/train/lgg or similar; I'll have the function calling this make sure those\n",
    "    ### Dirs already exist\n",
    "\n",
    "    # Pull the image from girder and then use PIL to turn the raw bytes in an image object\n",
    "    if debug:\n",
    "        print(\"Analyzing %s; pulling base image at %s and outputing tiles at %s\" % (imageData['name'],lowResMag,outputRes))\n",
    "    start_time=time.time()\n",
    "    end_time = time.time()\n",
    "    lowResImg = gc.get('/item/%s/tiles/region?magnification=%s' % ( imageData['_id'], lowResMag),jsonResp=False)    \n",
    "    lowResPILimage = Image.open(io.BytesIO(lowResImg.content))\n",
    "\n",
    "    # Pass the low res image to htk_simple_mask; but first convert to nparray for processing\n",
    "    # im_fgnd_mask_lres = htk_utils.simple_mask(np.asarray(lowResPILimage))\n",
    "    im_fgnd_mask_lres = sm.simple_mask(np.asarray(lowResPILimage)) # To generate integer array to avoid python float issue\n",
    "    \n",
    "    # NEXT STEP--- I need to grab every POINT in the MASK.. and then grab 100 Random Tiles...\n",
    "    # FIGuRE OUT THE INDEXES OF ALL POINTS IN THE MASK\n",
    "    (YmaskPts,XmaskPts)  = np.nonzero(im_fgnd_mask_lres)  ## This returns a  Tuples of 2 arrays  X and Y coordinates of non zero points\n",
    "    \n",
    "    # Zip Y and X into Coords\n",
    "    maskCoords = zip(YmaskPts,XmaskPts)\n",
    "\n",
    "    # Need to multiply the Y And X coords by this number to get the target coordinates\n",
    "    scaleFactor = int(outputRes/ lowResMag)  \n",
    "    maxx = len(maskCoords)\n",
    "    random.shuffle(maskCoords)  # shuffle the points and then chose however many pts I wnat to grab tiles for\n",
    "    \n",
    "    ### To save the tiles into file\n",
    "    slideBaseName =  imageData['name'].split(\".\")[0]\n",
    "\n",
    "    tilename =[]\n",
    "    tilecount=0\n",
    "\n",
    "    try:\n",
    "        for idx, c in enumerate(maskCoords):\n",
    "            top = c[0]* scaleFactor ## These are scaled to the output res\n",
    "            left = c[1]* scaleFactor \n",
    "            regionWidth = regionHeight = 256\n",
    "\n",
    "            # This function calls generates only 128*128 image only\n",
    "            # curTile = gc.get('/item/%s/tiles/region?magnification=%s&top=%d&left=%d&regionWidth=%d&regionHeight=%d' \n",
    "            #                   % ( imageData['_id'], outputRes, top, left,regionWidth,regionHeight),jsonResp=False)\n",
    "\n",
    "            url = 'item/%s/tiles/region?left=%s&top=%s&regionWidth=%s&regionHeight=%s&units=' + \\\n",
    "                    'base_pixels&width=%s&height=%s&magnification=20&exact=false&encoding=' + \\\n",
    "                    'JPEG&jpegQuality=95&jpegSubsampling=0'            \n",
    "            w = h = 256\n",
    "\n",
    "            curTile = gc.get(url % (imageData['_id'],left,top,w,h,w,h), jsonResp=False)\n",
    "            img = Image.open(io.BytesIO(curTile.content))\n",
    "            avg = delayed(np.average)(img)\n",
    "\n",
    "            \n",
    "\n",
    "            status = \"Image %s of %s, imgavg:%s \" % (idx, maxx,avg)\n",
    "            if debug:\n",
    "                LinePrinter(status)\n",
    "\n",
    "            if avg > 170 and avg < 210:\n",
    "                tilename = slideBaseName + '_%dx_%d_%d_%dx%d.png' % (outputRes, top, left,regionWidth, regionHeight) \n",
    "                img.save(opj(outputDir,tilename))\n",
    "                tilecount+=1\n",
    "                end_time = time.time()\n",
    "                \n",
    "            if tilecount > tilesToOutput or tilecount > maxx:\n",
    "               break\n",
    "    except exceptions.Exception as e:\n",
    "        log_exception(e)\n",
    "        sys.exit(1)\n",
    "\n",
    "    return start_time, end_time, tilecount "
   ]
  },
  {
   "cell_type": "code",
   "execution_count": 18,
   "metadata": {},
   "outputs": [
    {
     "name": "stdout",
     "output_type": "stream",
     "text": [
      "400\n",
      "Analyzing TCGA-CS-4938-01Z-00-DX1.6660D726-8524-424A-B6E8-D97FFD9BCE01.svs; pulling base image at 0.625 and outputing tiles at 20\n"
     ]
    },
    {
     "ename": "AttributeError",
     "evalue": "'TypeError' object has no attribute 'message'",
     "output_type": "error",
     "traceback": [
      "\u001b[0;31m---------------------------------------------------------------------------\u001b[0m",
      "\u001b[0;31mTypeError\u001b[0m                                 Traceback (most recent call last)",
      "\u001b[0;32m<ipython-input-18-c9d7aa0e074b>\u001b[0m in \u001b[0;36m<module>\u001b[0;34m\u001b[0m\n\u001b[1;32m     33\u001b[0m             \u001b[0;31m#grabTilesFromImage( sl, opd, lowResMag=0.625, outputRes=20, tilesToOutput=tilesWanted,debug=True)\u001b[0m\u001b[0;34m\u001b[0m\u001b[0;34m\u001b[0m\u001b[0;34m\u001b[0m\u001b[0m\n\u001b[0;32m---> 34\u001b[0;31m             \u001b[0ms_time\u001b[0m\u001b[0;34m,\u001b[0m \u001b[0me_time\u001b[0m\u001b[0;34m,\u001b[0m \u001b[0mtilecount\u001b[0m \u001b[0;34m=\u001b[0m \u001b[0mgrabTilesFromImage\u001b[0m\u001b[0;34m(\u001b[0m \u001b[0msl\u001b[0m\u001b[0;34m,\u001b[0m \u001b[0mopd\u001b[0m\u001b[0;34m,\u001b[0m \u001b[0mlowResMag\u001b[0m\u001b[0;34m=\u001b[0m\u001b[0;36m0.625\u001b[0m\u001b[0;34m,\u001b[0m \u001b[0moutputRes\u001b[0m\u001b[0;34m=\u001b[0m\u001b[0;36m20\u001b[0m\u001b[0;34m,\u001b[0m \u001b[0mtilesToOutput\u001b[0m\u001b[0;34m=\u001b[0m\u001b[0mtilesToGenerate\u001b[0m\u001b[0;34m,\u001b[0m\u001b[0mdebug\u001b[0m\u001b[0;34m=\u001b[0m\u001b[0;32mTrue\u001b[0m\u001b[0;34m)\u001b[0m\u001b[0;34m\u001b[0m\u001b[0;34m\u001b[0m\u001b[0m\n\u001b[0m\u001b[1;32m     35\u001b[0m             \u001b[0mtime_taken\u001b[0m\u001b[0;34m=\u001b[0m \u001b[0me_time\u001b[0m \u001b[0;34m-\u001b[0m \u001b[0ms_time\u001b[0m\u001b[0;34m\u001b[0m\u001b[0;34m\u001b[0m\u001b[0m\n",
      "\u001b[0;32m<ipython-input-7-bf8a584747e2>\u001b[0m in \u001b[0;36mgrabTilesFromImage\u001b[0;34m(imageData, outputDir, lowResMag, outputRes, tilesToOutput, debug)\u001b[0m\n\u001b[1;32m     28\u001b[0m     \u001b[0mscaleFactor\u001b[0m \u001b[0;34m=\u001b[0m \u001b[0mint\u001b[0m\u001b[0;34m(\u001b[0m\u001b[0moutputRes\u001b[0m\u001b[0;34m/\u001b[0m \u001b[0mlowResMag\u001b[0m\u001b[0;34m)\u001b[0m\u001b[0;34m\u001b[0m\u001b[0;34m\u001b[0m\u001b[0m\n\u001b[0;32m---> 29\u001b[0;31m     \u001b[0mmaxx\u001b[0m \u001b[0;34m=\u001b[0m \u001b[0mlen\u001b[0m\u001b[0;34m(\u001b[0m\u001b[0mmaskCoords\u001b[0m\u001b[0;34m)\u001b[0m\u001b[0;34m\u001b[0m\u001b[0;34m\u001b[0m\u001b[0m\n\u001b[0m\u001b[1;32m     30\u001b[0m     \u001b[0mrandom\u001b[0m\u001b[0;34m.\u001b[0m\u001b[0mshuffle\u001b[0m\u001b[0;34m(\u001b[0m\u001b[0mmaskCoords\u001b[0m\u001b[0;34m)\u001b[0m  \u001b[0;31m# shuffle the points and then chose however many pts I wnat to grab tiles for\u001b[0m\u001b[0;34m\u001b[0m\u001b[0;34m\u001b[0m\u001b[0m\n",
      "\u001b[0;31mTypeError\u001b[0m: object of type 'zip' has no len()",
      "\nDuring handling of the above exception, another exception occurred:\n",
      "\u001b[0;31mAttributeError\u001b[0m                            Traceback (most recent call last)",
      "\u001b[0;32m<ipython-input-18-c9d7aa0e074b>\u001b[0m in \u001b[0;36m<module>\u001b[0;34m\u001b[0m\n\u001b[1;32m     37\u001b[0m             \u001b[0mLinePrinter\u001b[0m\u001b[0;34m(\u001b[0m\u001b[0mtimestatus\u001b[0m\u001b[0;34m)\u001b[0m\u001b[0;34m\u001b[0m\u001b[0;34m\u001b[0m\u001b[0m\n\u001b[1;32m     38\u001b[0m         \u001b[0;32mexcept\u001b[0m \u001b[0mException\u001b[0m \u001b[0;32mas\u001b[0m \u001b[0me\u001b[0m\u001b[0;34m:\u001b[0m\u001b[0;34m\u001b[0m\u001b[0;34m\u001b[0m\u001b[0m\n\u001b[0;32m---> 39\u001b[0;31m             \u001b[0mlog_exception\u001b[0m\u001b[0;34m(\u001b[0m\u001b[0me\u001b[0m\u001b[0;34m)\u001b[0m\u001b[0;34m\u001b[0m\u001b[0;34m\u001b[0m\u001b[0m\n\u001b[0m\u001b[1;32m     40\u001b[0m             \u001b[0mf\u001b[0m \u001b[0;34m=\u001b[0m \u001b[0mopen\u001b[0m\u001b[0;34m(\u001b[0m\u001b[0;34m\"lgg10k_tile_extraction.log\"\u001b[0m\u001b[0;34m,\u001b[0m \u001b[0;34m\"a\"\u001b[0m\u001b[0;34m)\u001b[0m\u001b[0;34m\u001b[0m\u001b[0;34m\u001b[0m\u001b[0m\n\u001b[1;32m     41\u001b[0m             \u001b[0mprint\u001b[0m \u001b[0;34m>>\u001b[0m\u001b[0mf\u001b[0m\u001b[0;34m,\u001b[0m \u001b[0;34m\"Failed with analysing of image name: %s\"\u001b[0m \u001b[0;34m%\u001b[0m \u001b[0msl\u001b[0m\u001b[0;34m[\u001b[0m\u001b[0;34m'name'\u001b[0m\u001b[0;34m]\u001b[0m\u001b[0;34m\u001b[0m\u001b[0;34m\u001b[0m\u001b[0m\n",
      "\u001b[0;32m/run/user/1001/gvfs/smb-share:server=kmit-desktop.local,share=projects_data/Raja/github/tcga_multiclass_classifier_CNN/code/log_utils.py\u001b[0m in \u001b[0;36mlog_exception\u001b[0;34m(e)\u001b[0m\n\u001b[1;32m     30\u001b[0m     \u001b[0mexception_class\u001b[0m \u001b[0;34m=\u001b[0m \u001b[0me\u001b[0m\u001b[0;34m.\u001b[0m\u001b[0m__class__\u001b[0m\u001b[0;34m,\u001b[0m\u001b[0;34m\u001b[0m\u001b[0;34m\u001b[0m\u001b[0m\n\u001b[1;32m     31\u001b[0m     \u001b[0mexception_docstring\u001b[0m \u001b[0;34m=\u001b[0m \u001b[0me\u001b[0m\u001b[0;34m.\u001b[0m\u001b[0m__doc__\u001b[0m\u001b[0;34m,\u001b[0m\u001b[0;34m\u001b[0m\u001b[0;34m\u001b[0m\u001b[0m\n\u001b[0;32m---> 32\u001b[0;31m     exception_message = e.message))\n\u001b[0m",
      "\u001b[0;31mAttributeError\u001b[0m: 'TypeError' object has no attribute 'message'"
     ]
    }
   ],
   "source": [
    "######################################################################################\n",
    "### To generate Training and Test Tiles for CNN, calls the grabTilesFromImage function\n",
    "######################################################################################\n",
    "train  = 0.8\n",
    "totalSlides = len(dxSlides)\n",
    "\n",
    "## Output Testing & Training Images for Cohort\n",
    "# print (\"Start Time: %s\") % str(datetime.now())\n",
    "for idx,sl in enumerate(dxSlides):\n",
    "# I am assuming 80% i.e. 16/20 = 0.8...\n",
    "    if( (idx % 20)  <  16 ):\n",
    "        opd = \"../data/train/%s\" % cohort\n",
    "    else:\n",
    "        opd = \"../data/test/%s\" % cohort\n",
    "\n",
    "    if not os.path.isdir(opd):\n",
    "        os.makedirs(opd)\n",
    "\n",
    "\n",
    "        print(\"Outputing test set now!!\")\n",
    "    \n",
    "    slideBaseName = sl['name'].split(\".\")[0]\n",
    "    tilesFound = glob.glob(opd+\"/%s*png\" %  (slideBaseName))\n",
    "    #print(tilesDone)\n",
    "\n",
    "    tilesWanted = 400\n",
    "    tilesToGenerate = tilesWanted - len(tilesFound)\n",
    "    print(tilesToGenerate)\n",
    "\n",
    "    if (tilesToGenerate) > 0:\n",
    "        \n",
    "        try:\n",
    "            #grabTilesFromImage( sl, opd, lowResMag=0.625, outputRes=20, tilesToOutput=tilesWanted,debug=True)\n",
    "            s_time, e_time, tilecount = grabTilesFromImage( sl, opd, lowResMag=0.625, outputRes=20, tilesToOutput=tilesToGenerate,debug=True)        \n",
    "            time_taken= e_time - s_time\n",
    "            timestatus = \"Time taken to extract %s tiles from %s slide: %s\" % (tilecount, sl['name'], time_taken)\n",
    "            LinePrinter(timestatus)\n",
    "        except Exception as e:\n",
    "            log_exception(e)\n",
    "            f = open(\"lgg10k_tile_extraction.log\", \"a\")\n",
    "            print >>f, \"Failed with analysing of image name: %s\" % sl['name']\n",
    "             \n",
    "    else:\n",
    "        stats = \"Processed %d images '\\n'\" % idx\n",
    "        LinePrinter(stats)\n",
    "\n",
    "# print (\"Time End: %s\") % str(datetime.now())"
   ]
  },
  {
   "cell_type": "code",
   "execution_count": 11,
   "metadata": {},
   "outputs": [
    {
     "data": {
      "text/plain": [
       "datetime.datetime(2019, 11, 13, 15, 52, 38, 631606)"
      ]
     },
     "execution_count": 11,
     "metadata": {},
     "output_type": "execute_result"
    }
   ],
   "source": [
    "datetime.now()"
   ]
  },
  {
   "cell_type": "code",
   "execution_count": 14,
   "metadata": {},
   "outputs": [
    {
     "name": "stdout",
     "output_type": "stream",
     "text": [
      "/run/user/1001/gvfs/smb-share:server=kmit-desktop.local,share=projects_data/Raja/github/tcga_multiclass_classifier_CNN/code\r\n"
     ]
    }
   ],
   "source": [
    "!pwd"
   ]
  },
  {
   "cell_type": "code",
   "execution_count": 17,
   "metadata": {},
   "outputs": [
    {
     "ename": "ModuleNotFoundError",
     "evalue": "No module named 'exceptions'",
     "output_type": "error",
     "traceback": [
      "\u001b[0;31m---------------------------------------------------------------------------\u001b[0m",
      "\u001b[0;31mModuleNotFoundError\u001b[0m                       Traceback (most recent call last)",
      "\u001b[0;32m<ipython-input-17-1a320eafe330>\u001b[0m in \u001b[0;36m<module>\u001b[0;34m\u001b[0m\n\u001b[0;32m----> 1\u001b[0;31m \u001b[0;32mimport\u001b[0m \u001b[0mexceptions\u001b[0m\u001b[0;34m\u001b[0m\u001b[0;34m\u001b[0m\u001b[0m\n\u001b[0m",
      "\u001b[0;31mModuleNotFoundError\u001b[0m: No module named 'exceptions'"
     ]
    }
   ],
   "source": [
    "import exceptions"
   ]
  },
  {
   "cell_type": "code",
   "execution_count": null,
   "metadata": {},
   "outputs": [],
   "source": []
  }
 ],
 "metadata": {
  "kernelspec": {
   "display_name": "Python 3",
   "language": "python",
   "name": "python3"
  },
  "language_info": {
   "codemirror_mode": {
    "name": "ipython",
    "version": 3
   },
   "file_extension": ".py",
   "mimetype": "text/x-python",
   "name": "python",
   "nbconvert_exporter": "python",
   "pygments_lexer": "ipython3",
   "version": "3.7.5"
  }
 },
 "nbformat": 4,
 "nbformat_minor": 2
}
